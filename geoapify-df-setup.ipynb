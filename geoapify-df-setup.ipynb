{
 "cells": [
  {
   "cell_type": "code",
   "execution_count": null,
   "id": "24a168fd-2059-4a67-aeed-e173d64b59f1",
   "metadata": {},
   "outputs": [],
   "source": [
    "# Setup\n",
    "\n",
    "import pandas as pd\n",
    "from pathlib import Path"
   ]
  },
  {
   "cell_type": "code",
   "execution_count": null,
   "id": "234a3551-6991-42e8-be6a-ecd7004c6b57",
   "metadata": {},
   "outputs": [],
   "source": [
    "# Import and read files\n",
    "\n",
    "file = Path(\"data/merged_df.csv\")\n",
    "df = pd.read_csv(file, encoding=\"utf-8\")\n",
    "print(df.head())"
   ]
  },
  {
   "cell_type": "code",
   "execution_count": null,
   "id": "c2360aeb-4683-423a-ad0e-fe744bdb3d2e",
   "metadata": {},
   "outputs": [],
   "source": [
    "# Geoapify API setup\n",
    "\n",
    "import hvplot.pandas\n",
    "import requests\n",
    "import json\n",
    "from pprint import pprint\n",
    "\n",
    "from config import geoapify_key\n",
    "\n",
    "latitude = []\n",
    "longitude = []\n",
    "\n",
    "for index, row in df.iterrows():\n",
    "\n",
    "    # Set search parameters\n",
    "    target_city = f\"{row['City']}, {row['Country']}\"\n",
    "\n",
    "    # Base url\n",
    "    base_url = f\"https://api.geoapify.com/v1/geocode/search?text={target_city}&format=json&apiKey={geoapify_key}\"\n",
    "\n",
    "    # Run request and get longtitude and latitude\n",
    "    response = requests.get(base_url).json()\n",
    "    try:\n",
    "        lat = response[\"results\"][0][\"lat1\"]\n",
    "        latitude.append(lat)\n",
    "    except:\n",
    "        latitude.append(None)\n",
    "        \n",
    "    try:\n",
    "        lng = response[\"results\"][0][\"lon1\"]\n",
    "        longitude.append(lng)\n",
    "    except:\n",
    "        longitude.append(None)\n",
    "\n",
    "df[\"Lat\"] = latitude\n",
    "df[\"Lng\"] = longitude\n",
    "\n",
    "df.to_csv(\"data/geoapify_df.csv\", header=True)"
   ]
  },
  {
   "cell_type": "code",
   "execution_count": null,
   "id": "008ad102-acf3-4608-ad43-a0a61c3da216",
   "metadata": {},
   "outputs": [],
   "source": []
  }
 ],
 "metadata": {
  "kernelspec": {
   "display_name": "Python 3 (ipykernel)",
   "language": "python",
   "name": "python3"
  },
  "language_info": {
   "codemirror_mode": {
    "name": "ipython",
    "version": 3
   },
   "file_extension": ".py",
   "mimetype": "text/x-python",
   "name": "python",
   "nbconvert_exporter": "python",
   "pygments_lexer": "ipython3",
   "version": "3.10.13"
  }
 },
 "nbformat": 4,
 "nbformat_minor": 5
}
