{
 "cells": [
  {
   "cell_type": "code",
   "execution_count": null,
   "id": "81f17cc1-e102-43e3-90ad-20abdb6142e5",
   "metadata": {},
   "outputs": [],
   "source": [
    "# Setup\n",
    "\n",
    "import pandas as pd\n",
    "from pathlib import Path\n",
    "import hvplot.pandas\n",
    "import requests\n",
    "import json\n",
    "from pprint import pprint\n",
    "from config import geoapify_key"
   ]
  },
  {
   "cell_type": "code",
   "execution_count": null,
   "id": "a7ddfc88-2ee9-4a9c-836c-ebc55c268264",
   "metadata": {},
   "outputs": [],
   "source": [
    "# Import and read files\n",
    "\n",
    "file = Path(\"data/merged_df.csv\")\n",
    "df = pd.read_csv(file, encoding=\"utf-8\")"
   ]
  },
  {
   "cell_type": "code",
   "execution_count": null,
   "id": "67a9ad51-02c7-46a3-b678-8727a02afd33",
   "metadata": {},
   "outputs": [],
   "source": [
    "# Geoapify API setup\n",
    "\n",
    "latitude = []\n",
    "longitude = []\n",
    "\n",
    "for index, row in df.iterrows():\n",
    "\n",
    "    # Set search parameters\n",
    "    target_city = f\"{row['City']}, {row['Country']}\"\n",
    "\n",
    "    # Base url\n",
    "    base_url = f\"https://api.geoapify.com/v1/geocode/search?text={target_city}&format=json&apiKey={geoapify_key}\"\n",
    "\n",
    "    # Run request and get longtitude and latitude\n",
    "    response = requests.get(base_url).json()\n",
    "    try:\n",
    "        lat = response[\"results\"][0][\"lat1\"]\n",
    "        latitude.append(lat)\n",
    "    except:\n",
    "        latitude.append(None)\n",
    "        \n",
    "    try:\n",
    "        lng = response[\"results\"][0][\"lon1\"]\n",
    "        longitude.append(lng)\n",
    "    except:\n",
    "        longitude.append(None)\n",
    "\n",
    "df[\"Lat\"] = latitude\n",
    "df[\"Lng\"] = longitude\n",
    "\n",
    "df.to_csv(\"data/geoapify_df.csv\", header=True)"
   ]
  },
  {
   "cell_type": "code",
   "execution_count": null,
   "id": "b1e97e1e-39ce-4a95-a5e2-a1c2441cf2fb",
   "metadata": {},
   "outputs": [],
   "source": []
  }
 ],
 "metadata": {
  "kernelspec": {
   "display_name": "Python 3 (ipykernel)",
   "language": "python",
   "name": "python3"
  },
  "language_info": {
   "codemirror_mode": {
    "name": "ipython",
    "version": 3
   },
   "file_extension": ".py",
   "mimetype": "text/x-python",
   "name": "python",
   "nbconvert_exporter": "python",
   "pygments_lexer": "ipython3",
   "version": "3.10.13"
  }
 },
 "nbformat": 4,
 "nbformat_minor": 5
}
